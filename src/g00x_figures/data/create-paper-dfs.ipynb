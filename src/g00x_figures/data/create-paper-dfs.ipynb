{
 "cells": [],
 "metadata": {
  "kernelspec": {
   "display_name": "g002",
   "language": "python",
   "name": "python3"
  },
  "language_info": {
   "name": "python",
   "version": "3.10.16"
  }
 },
 "nbformat": 4,
 "nbformat_minor": 2
}
