{
 "cells": [
  {
   "cell_type": "code",
   "execution_count": 2,
   "id": "b47c4819",
   "metadata": {},
   "outputs": [
    {
     "name": "stdout",
     "output_type": "stream",
     "text": [
      "Rscript comparisons_table_S40.R TableS40.Rmd\n",
      "Rscript mk_table_figure2.R TableS45_S46_S47.Rmd\n",
      "Rscript comparisons_table_S54_S56.R TableS54_S56.Rmd\n",
      "Rscript comparisons_table_S55.R TableS55.Rmd\n",
      "Rscript comparisons_table_S57.R TableS57.Rmd\n",
      "Rscript comparisons_table_S58.R TableS58.Rmd\n",
      "Rscript comparisons_table_S61.R TableS61.Rmd\n",
      "Rscript comparisons_table_S62.R TableS62.Rmd\n",
      "Rscript comparisons_table_S63.R TableS63.Rmd\n",
      "Rscript comparisons_table_S64.R TableS64.Rmd\n",
      "Rscript comparisons_table_S66.R TableS66.Rmd\n",
      "Rscript comparisons_table_S67.R TableS67.Rmd\n",
      "Rscript comparisons_table_S71.R TableS71.Rmd\n",
      "Rscript comparisons_table_S78.R TableS78.Rmd\n"
     ]
    }
   ],
   "source": [
    "import pandas as pd\n",
    "import subprocess\n",
    "from pathlib import Path\n",
    "\n",
    "# Path to the Excel file\n",
    "excel_path = 'code_dependencies.xlsx'\n",
    "\n",
    "# Load the Excel file\n",
    "df = pd.read_excel(excel_path)\n",
    "\n",
    "# Iterate through each row\n",
    "for idx, row in df.iterrows():\n",
    "    label = row['Label']\n",
    "    code_file = row['Code']\n",
    "    r_dependencies = row['R dependencies']\n",
    "\n",
    "    # Check if R dependencies are available\n",
    "    if pd.notna(r_dependencies) and pd.notna(code_file) and pd.notna(label):\n",
    "        # Ensure the R dependencies and code file exist\n",
    "        r_script_path = Path(r_dependencies)\n",
    "        code_path = Path(code_file)\n",
    "\n",
    "        if r_script_path.exists() and code_path.exists():\n",
    "            # print(f\"Executing R script {r_script_path} on file {code_path}\")\n",
    "            print('Rscript', str(r_script_path), str(code_path))\n",
    "            \n",
    "            # Execute R script, assuming it takes the code file as an argument\n",
    "        #     result = subprocess.run(['Rscript', str(r_script_path), str(code_path)],\n",
    "        #                             capture_output=True, text=True)\n",
    "\n",
    "        #     # Check if R script executed successfully\n",
    "        #     if result.returncode == 0:\n",
    "        #         output_filename = f\"{label}.txt\"\n",
    "        #         with open(output_filename, 'w') as output_file:\n",
    "        #             output_file.write(result.stdout)\n",
    "        #         print(f\"Output successfully saved to {output_filename}\")\n",
    "        #     else:\n",
    "        #         print(f\"Error running R script: {result.stderr}\")\n",
    "        # else:\n",
    "        #     print(f\"Missing R script or code file: {r_script_path}, {code_path}\")\n"
   ]
  }
 ],
 "metadata": {
  "kernelspec": {
   "display_name": "g00x",
   "language": "python",
   "name": "python3"
  },
  "language_info": {
   "codemirror_mode": {
    "name": "ipython",
    "version": 3
   },
   "file_extension": ".py",
   "mimetype": "text/x-python",
   "name": "python",
   "nbconvert_exporter": "python",
   "pygments_lexer": "ipython3",
   "version": "3.10.10"
  }
 },
 "nbformat": 4,
 "nbformat_minor": 5
}
